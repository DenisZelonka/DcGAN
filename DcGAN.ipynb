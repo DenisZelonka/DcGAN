{
 "cells": [
  {
   "cell_type": "code",
   "execution_count": 1,
   "metadata": {},
   "outputs": [
    {
     "name": "stderr",
     "output_type": "stream",
     "text": [
      "C:\\Users\\zelon\\AppData\\Roaming\\Python\\Python39\\site-packages\\tqdm\\auto.py:21: TqdmWarning: IProgress not found. Please update jupyter and ipywidgets. See https://ipywidgets.readthedocs.io/en/stable/user_install.html\n",
      "  from .autonotebook import tqdm as notebook_tqdm\n"
     ]
    }
   ],
   "source": [
    "import os\n",
    "from torchvision import datasets,transforms\n",
    "import torch.nn as nn\n",
    "import torch\n",
    "import torchvision.utils as vutils"
   ]
  },
  {
   "cell_type": "code",
   "execution_count": 2,
   "metadata": {},
   "outputs": [
    {
     "data": {
      "text/plain": [
       "<torch._C.Generator at 0x1f4eacd7530>"
      ]
     },
     "execution_count": 2,
     "metadata": {},
     "output_type": "execute_result"
    }
   ],
   "source": [
    "device = torch.device('cuda:0' if torch.cuda.is_available() else 'cpu')\n",
    "torch.manual_seed(42)"
   ]
  },
  {
   "cell_type": "code",
   "execution_count": 3,
   "metadata": {},
   "outputs": [],
   "source": [
    "batch_size=32\n",
    "learning_rate=0.0002\n",
    "epochs=200\n",
    "z=100  #size of latent vector\n",
    "in_channels=3 #Number of color channels\n",
    "path_to_progress_img=\"./progress/\"\n",
    "path_to_weights=\"./weights/\"\n",
    "path_to_images=\"./img/\""
   ]
  },
  {
   "cell_type": "code",
   "execution_count": 14,
   "metadata": {},
   "outputs": [],
   "source": [
    "import numpy\n",
    "data=datasets.ImageFolder(\n",
    "    path_to_images,\n",
    "    transform=transforms.Compose([\n",
    "        transforms.Resize((64,64)),\n",
    "        transforms.ToTensor(),\n",
    "        transforms.Normalize((0.5), (0.5)),\n",
    "    ]))\n",
    "data_subset = torch.utils.data.Subset(data, numpy.random.choice(len(data), 200, replace=False))"
   ]
  },
  {
   "cell_type": "code",
   "execution_count": 15,
   "metadata": {},
   "outputs": [],
   "source": [
    "dataloader = torch.utils.data.DataLoader(data, batch_size=batch_size,\n",
    "                                         shuffle=True)"
   ]
  },
  {
   "cell_type": "code",
   "execution_count": 4,
   "metadata": {},
   "outputs": [],
   "source": [
    "class Generator(nn.Module):\n",
    "    def __init__(self):\n",
    "        super(Generator, self).__init__()\n",
    "        self.convT = nn.Sequential(\n",
    "        nn.ConvTranspose2d(in_channels=z,out_channels=512,kernel_size=4,stride=1,padding=0),\n",
    "        nn.BatchNorm2d(512),\n",
    "        nn.LeakyReLU(0.2),\n",
    "        nn.ConvTranspose2d(in_channels=512,out_channels=256,kernel_size=4,stride=2,padding=1),\n",
    "        nn.BatchNorm2d(256),\n",
    "        nn.LeakyReLU(0.2),\n",
    "        nn.ConvTranspose2d(in_channels=256,out_channels=128,kernel_size=4,stride=2,padding=1),\n",
    "        nn.BatchNorm2d(128),\n",
    "        nn.LeakyReLU(0.2),\n",
    "        nn.ConvTranspose2d(in_channels=128,out_channels=64,kernel_size=4,stride=2,padding=1),\n",
    "        nn.BatchNorm2d(64),\n",
    "        nn.LeakyReLU(0.2),\n",
    "        nn.ConvTranspose2d(in_channels=64,out_channels=in_channels,kernel_size=4,stride=2,padding=1),\n",
    "        nn.Tanh(),\n",
    "        )\n",
    "    def forward(self, x):\n",
    "        x=self.convT(x)\n",
    "        return x"
   ]
  },
  {
   "cell_type": "code",
   "execution_count": 5,
   "metadata": {},
   "outputs": [],
   "source": [
    "class Discriminator(nn.Module):\n",
    "    def __init__(self):\n",
    "        super(Discriminator, self).__init__()\n",
    "        self.conv = nn.Sequential(\n",
    "            nn.Conv2d(in_channels=in_channels,out_channels=64,kernel_size=4,stride=2,padding=1),\n",
    "            nn.LeakyReLU(0.2),\n",
    "            nn.Conv2d(in_channels=64,out_channels=128,kernel_size=4,stride=2,padding=1),\n",
    "            nn.BatchNorm2d(128),\n",
    "            nn.LeakyReLU(0.2),\n",
    "            nn.Conv2d(in_channels=128,out_channels=256,kernel_size=4,stride=2,padding=1),\n",
    "            nn.BatchNorm2d(256),\n",
    "            nn.LeakyReLU(0.2),\n",
    "            nn.Conv2d(in_channels=256,out_channels=512,kernel_size=4,stride=2,padding=1),\n",
    "            nn.BatchNorm2d(512),\n",
    "            nn.LeakyReLU(0.2),\n",
    "            nn.Conv2d(in_channels=512,out_channels=1,kernel_size=4,stride=2,padding=0),\n",
    "            nn.Sigmoid()\n",
    "        )\n",
    "    def forward(self, x):\n",
    "        x=self.conv(x)\n",
    "        return x"
   ]
  },
  {
   "cell_type": "code",
   "execution_count": 6,
   "metadata": {},
   "outputs": [],
   "source": [
    "gen=Generator().to(device)\n",
    "dis=Discriminator().to(device)"
   ]
  },
  {
   "cell_type": "code",
   "execution_count": 7,
   "metadata": {},
   "outputs": [],
   "source": [
    "lossFun=nn.BCELoss()\n",
    "fixed_noise = torch.randn(batch_size, z, 1, 1,device=device)\n",
    "real_label = 1\n",
    "fake_label = 0"
   ]
  },
  {
   "cell_type": "code",
   "execution_count": 8,
   "metadata": {},
   "outputs": [],
   "source": [
    "optimizerD = torch.optim.Adam(dis.parameters(), lr=learning_rate)\n",
    "optimizerG = torch.optim.Adam(gen.parameters(), lr=learning_rate)"
   ]
  },
  {
   "cell_type": "code",
   "execution_count": 9,
   "metadata": {},
   "outputs": [],
   "source": [
    "def initialize_fn(m):\n",
    "    classname = m.__class__.__name__\n",
    "    if classname.find('Conv') != -1:\n",
    "        nn.init.normal_(m.weight.data, 0.0, 0.02)\n",
    "    elif classname.find('BatchNorm') != -1:\n",
    "        nn.init.normal_(m.weight.data, 1, 0.02)\n",
    "        nn.init.constant_(m.bias.data, 0)"
   ]
  },
  {
   "cell_type": "code",
   "execution_count": 11,
   "metadata": {},
   "outputs": [],
   "source": [
    "if (len(os.listdir(path_to_weights)) == 0):\n",
    "        dis.apply(initialize_fn)\n",
    "        gen.apply(initialize_fn)\n",
    "else:\n",
    "        idx=len(os.listdir(path_to_weights))//2\n",
    "        dis.load_state_dict(torch.load(path_to_weights+\"dis_epoch_%d.pth\" % idx))\n",
    "        gen.load_state_dict(torch.load(path_to_weights+\"gen_epoch_%d.pth\" % idx))"
   ]
  },
  {
   "cell_type": "code",
   "execution_count": null,
   "metadata": {},
   "outputs": [],
   "source": [
    "for epoch in range(epochs):\n",
    "        for i, data in enumerate(dataloader,0):\n",
    "                dis.zero_grad()\n",
    "                real=data[0].to(device)\n",
    "                batch_size=real.size(0)\n",
    "                label = torch.full((batch_size,1,1,1), real_label,\n",
    "                        dtype=real.dtype, device=device)\n",
    "                output = dis(real)\n",
    "                lossReal=lossFun(output,label)\n",
    "                lossReal.backward()\n",
    "                D_x = output.mean().item()\n",
    "\n",
    "                noise = torch.randn(batch_size, z, 1, 1, device=device)\n",
    "                fake = gen(noise)\n",
    "                label.fill_(fake_label)\n",
    "                output = dis(fake.detach())\n",
    "                errD_fake = lossFun(output, label)\n",
    "                errD = lossReal + errD_fake\n",
    "                errD_fake.backward()\n",
    "                D_G_z1 = output.mean().item()\n",
    "                optimizerD.step()\n",
    "\n",
    "                gen.zero_grad()\n",
    "                label.fill_(real_label) \n",
    "                output = dis(fake)\n",
    "                errG = lossFun(output, label)\n",
    "                errG.backward()\n",
    "                D_G_z2 = output.mean().item()\n",
    "                optimizerG.step()\n",
    "\n",
    "                print('[%d/%d][%d/%d] Loss_D: %.4f Loss_G: %.4f D(x): %.4f D(G(z)): %.4f / %.4f'\n",
    "                % (epoch, epochs, i, len(dataloader),\n",
    "                        errD.item(), errG.item(), D_x, D_G_z1, D_G_z2))\n",
    "                if i % 50 == 0:\n",
    "                        vutils.save_image(real,\n",
    "                                '%s/real_samples.png' % path_to_progress_img,\n",
    "                                normalize=True)\n",
    "                        fake = gen(fixed_noise)\n",
    "                        vutils.save_image(fake.detach(),\n",
    "                                '%s/fake_samples_epoch_%03d.png' % (path_to_progress_img, epoch),\n",
    "                                normalize=True)\n",
    "        torch.save(gen.state_dict(), '%s/gen_epoch_%d.pth' % (path_to_weights, epoch))\n",
    "        torch.save(dis.state_dict(), '%s/dis_epoch_%d.pth' % (path_to_weights, epoch))"
   ]
  },
  {
   "cell_type": "code",
   "execution_count": 12,
   "metadata": {},
   "outputs": [
    {
     "name": "stderr",
     "output_type": "stream",
     "text": [
      "Clipping input data to the valid range for imshow with RGB data ([0..1] for floats or [0..255] for integers).\n"
     ]
    },
    {
     "data": {
      "text/plain": [
       "<matplotlib.image.AxesImage at 0x1f4ffe194f0>"
      ]
     },
     "execution_count": 12,
     "metadata": {},
     "output_type": "execute_result"
    },
    {
     "data": {
      "image/png": "[encoded data removed]",
      "text/plain": [
       "<Figure size 640x480 with 1 Axes>"
      ]
     },
     "metadata": {},
     "output_type": "display_data"
    }
   ],
   "source": [
    "import matplotlib.pyplot as plt\n",
    "plt.imshow(gen(torch.randn(1, z, 1, 1, device=device)).detach().reshape([64,64,in_channels]),cmap=\"gray\")"
   ]
  }
 ],
 "metadata": {
  "kernelspec": {
   "display_name": "computer-vision-main",
   "language": "python",
   "name": "python3"
  },
  "language_info": {
   "codemirror_mode": {
    "name": "ipython",
    "version": 3
   },
   "file_extension": ".py",
   "mimetype": "text/x-python",
   "name": "python",
   "nbconvert_exporter": "python",
   "pygments_lexer": "ipython3",
   "version": "3.9.7"
  },
  "orig_nbformat": 4
 },
 "nbformat": 4,
 "nbformat_minor": 2
}
